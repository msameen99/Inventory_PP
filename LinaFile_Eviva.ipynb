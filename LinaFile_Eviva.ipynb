{
 "cells": [
  {
   "cell_type": "markdown",
   "metadata": {},
   "source": [
    "# File PATHs الكود الحالي مظبوط على الملف القديم , لو الملف الجديد مشابه للقديم : لا نحتاج تغيير في الكود"
   ]
  },
  {
   "cell_type": "code",
   "execution_count": 1,
   "metadata": {},
   "outputs": [],
   "source": [
    "Path = 'L:\\\\_Cloud\\\\Dropbox\\\\_Taacis_Working_Folder\\\\_DataScience\\\\_Eviva\\\\_SellerCloud\\\\_Inventory_PredictedPurchase\\\\'\n",
    "NewLinaExcelFile = Path + 'Lina_12Feb18.xlsx'\n",
    "PrevLinaExcelFile = Path + '21Jan18\\\\Lina_21Jan18.xlsx'"
   ]
  },
  {
   "cell_type": "markdown",
   "metadata": {
    "scrolled": true
   },
   "source": [
    "# Import the PREVIOUS Excel file"
   ]
  },
  {
   "cell_type": "code",
   "execution_count": 2,
   "metadata": {},
   "outputs": [
    {
     "name": "stdout",
     "output_type": "stream",
     "text": [
      "(230, 12)\n"
     ]
    },
    {
     "data": {
      "text/html": [
       "<div>\n",
       "<style>\n",
       "    .dataframe thead tr:only-child th {\n",
       "        text-align: right;\n",
       "    }\n",
       "\n",
       "    .dataframe thead th {\n",
       "        text-align: left;\n",
       "    }\n",
       "\n",
       "    .dataframe tbody tr th {\n",
       "        vertical-align: top;\n",
       "    }\n",
       "</style>\n",
       "<table border=\"1\" class=\"dataframe\">\n",
       "  <thead>\n",
       "    <tr style=\"text-align: right;\">\n",
       "      <th></th>\n",
       "      <th>Factory Name</th>\n",
       "      <th>PO Date-Ordered On</th>\n",
       "      <th>PO Number</th>\n",
       "      <th>SKU</th>\n",
       "      <th>Qty</th>\n",
       "      <th>ETA</th>\n",
       "      <th>Arrival Date</th>\n",
       "      <th>PO Number-SC</th>\n",
       "      <th>Cost</th>\n",
       "      <th>Added to SC?</th>\n",
       "      <th>QTY ADDED TO SC?</th>\n",
       "      <th>Comments</th>\n",
       "    </tr>\n",
       "  </thead>\n",
       "  <tbody>\n",
       "    <tr>\n",
       "      <th>15</th>\n",
       "      <td>Wenzhou Youbo</td>\n",
       "      <td>2017-10-23</td>\n",
       "      <td>YB-17SC1017USEVIVA-1</td>\n",
       "      <td>EVMR334-25X39-OK</td>\n",
       "      <td>2.0</td>\n",
       "      <td>2018-01-20 00:00:00</td>\n",
       "      <td>NaN</td>\n",
       "      <td>NaN</td>\n",
       "      <td>X</td>\n",
       "      <td>Yes</td>\n",
       "      <td>NaN</td>\n",
       "      <td>NaN</td>\n",
       "    </tr>\n",
       "    <tr>\n",
       "      <th>16</th>\n",
       "      <td>NaN</td>\n",
       "      <td>NaT</td>\n",
       "      <td>NaN</td>\n",
       "      <td>NaN</td>\n",
       "      <td>NaN</td>\n",
       "      <td>NaN</td>\n",
       "      <td>NaN</td>\n",
       "      <td>NaN</td>\n",
       "      <td>NaN</td>\n",
       "      <td>NaN</td>\n",
       "      <td>NaN</td>\n",
       "      <td>NaN</td>\n",
       "    </tr>\n",
       "    <tr>\n",
       "      <th>17</th>\n",
       "      <td>Sunlight (PI)</td>\n",
       "      <td>2017-11-17</td>\n",
       "      <td>KSLT17085</td>\n",
       "      <td>EVVN412-78WH</td>\n",
       "      <td>10.0</td>\n",
       "      <td>2018-02-15 00:00:00</td>\n",
       "      <td>NaN</td>\n",
       "      <td>NaN</td>\n",
       "      <td>X</td>\n",
       "      <td>NaN</td>\n",
       "      <td>NaN</td>\n",
       "      <td>NaN</td>\n",
       "    </tr>\n",
       "  </tbody>\n",
       "</table>\n",
       "</div>"
      ],
      "text/plain": [
       "     Factory Name PO Date-Ordered On              PO Number               SKU  \\\n",
       "15  Wenzhou Youbo          2017-10-23  YB-17SC1017USEVIVA-1  EVMR334-25X39-OK   \n",
       "16            NaN                 NaT                   NaN               NaN   \n",
       "17  Sunlight (PI)          2017-11-17             KSLT17085      EVVN412-78WH   \n",
       "\n",
       "     Qty                  ETA  Arrival Date  PO Number-SC Cost Added to SC?   \\\n",
       "15   2.0  2018-01-20 00:00:00           NaN           NaN    X           Yes   \n",
       "16   NaN                  NaN           NaN           NaN  NaN           NaN   \n",
       "17  10.0  2018-02-15 00:00:00           NaN           NaN    X           NaN   \n",
       "\n",
       "   QTY ADDED TO SC? Comments  \n",
       "15              NaN      NaN  \n",
       "16              NaN      NaN  \n",
       "17              NaN      NaN  "
      ]
     },
     "execution_count": 2,
     "metadata": {},
     "output_type": "execute_result"
    }
   ],
   "source": [
    "import pandas as pd\n",
    "\n",
    "try:\n",
    "    dfPrevLina = pd.read_excel(PrevLinaExcelFile, sheetname = 'Sheet1')\n",
    "    print(dfPrevLina.shape)\n",
    "except:\n",
    "    print('ERROR: File NOT found')\n",
    "    \n",
    "dfPrevLina[15:18]\n"
   ]
  },
  {
   "cell_type": "code",
   "execution_count": null,
   "metadata": {
    "collapsed": true
   },
   "outputs": [],
   "source": []
  },
  {
   "cell_type": "markdown",
   "metadata": {
    "scrolled": true
   },
   "source": [
    "# Import the NEW Excel file"
   ]
  },
  {
   "cell_type": "code",
   "execution_count": 3,
   "metadata": {},
   "outputs": [
    {
     "name": "stdout",
     "output_type": "stream",
     "text": [
      "(230, 12)\n"
     ]
    },
    {
     "data": {
      "text/html": [
       "<div>\n",
       "<style>\n",
       "    .dataframe thead tr:only-child th {\n",
       "        text-align: right;\n",
       "    }\n",
       "\n",
       "    .dataframe thead th {\n",
       "        text-align: left;\n",
       "    }\n",
       "\n",
       "    .dataframe tbody tr th {\n",
       "        vertical-align: top;\n",
       "    }\n",
       "</style>\n",
       "<table border=\"1\" class=\"dataframe\">\n",
       "  <thead>\n",
       "    <tr style=\"text-align: right;\">\n",
       "      <th></th>\n",
       "      <th>Factory Name</th>\n",
       "      <th>PO Date-Ordered On</th>\n",
       "      <th>PO Number</th>\n",
       "      <th>SKU</th>\n",
       "      <th>Qty</th>\n",
       "      <th>ETA</th>\n",
       "      <th>Arrival Date</th>\n",
       "      <th>PO Number-SC</th>\n",
       "      <th>Cost</th>\n",
       "      <th>Added to SC?</th>\n",
       "      <th>QTY ADDED TO SC?</th>\n",
       "      <th>Comments</th>\n",
       "    </tr>\n",
       "  </thead>\n",
       "  <tbody>\n",
       "    <tr>\n",
       "      <th>15</th>\n",
       "      <td>Wenzhou Youbo</td>\n",
       "      <td>2017-10-23</td>\n",
       "      <td>YB-17SC1017USEVIVA-1</td>\n",
       "      <td>EVMR334-25X39-OK</td>\n",
       "      <td>2.0</td>\n",
       "      <td>2018-01-20 00:00:00</td>\n",
       "      <td>NaN</td>\n",
       "      <td>NaN</td>\n",
       "      <td>X</td>\n",
       "      <td>Yes</td>\n",
       "      <td>NaN</td>\n",
       "      <td>NaN</td>\n",
       "    </tr>\n",
       "    <tr>\n",
       "      <th>16</th>\n",
       "      <td>NaN</td>\n",
       "      <td>NaT</td>\n",
       "      <td>NaN</td>\n",
       "      <td>NaN</td>\n",
       "      <td>NaN</td>\n",
       "      <td>NaN</td>\n",
       "      <td>NaN</td>\n",
       "      <td>NaN</td>\n",
       "      <td>NaN</td>\n",
       "      <td>NaN</td>\n",
       "      <td>NaN</td>\n",
       "      <td>NaN</td>\n",
       "    </tr>\n",
       "    <tr>\n",
       "      <th>17</th>\n",
       "      <td>Sunlight (PI)</td>\n",
       "      <td>2017-11-17</td>\n",
       "      <td>KSLT17085</td>\n",
       "      <td>EVVN412-78WH</td>\n",
       "      <td>10.0</td>\n",
       "      <td>2018-02-15 00:00:00</td>\n",
       "      <td>NaN</td>\n",
       "      <td>NaN</td>\n",
       "      <td>X</td>\n",
       "      <td>NaN</td>\n",
       "      <td>NaN</td>\n",
       "      <td>NaN</td>\n",
       "    </tr>\n",
       "  </tbody>\n",
       "</table>\n",
       "</div>"
      ],
      "text/plain": [
       "     Factory Name PO Date-Ordered On              PO Number               SKU  \\\n",
       "15  Wenzhou Youbo          2017-10-23  YB-17SC1017USEVIVA-1  EVMR334-25X39-OK   \n",
       "16            NaN                 NaT                   NaN               NaN   \n",
       "17  Sunlight (PI)          2017-11-17             KSLT17085      EVVN412-78WH   \n",
       "\n",
       "     Qty                  ETA  Arrival Date  PO Number-SC Cost Added to SC?   \\\n",
       "15   2.0  2018-01-20 00:00:00           NaN           NaN    X           Yes   \n",
       "16   NaN                  NaN           NaN           NaN  NaN           NaN   \n",
       "17  10.0  2018-02-15 00:00:00           NaN           NaN    X           NaN   \n",
       "\n",
       "   QTY ADDED TO SC? Comments  \n",
       "15              NaN      NaN  \n",
       "16              NaN      NaN  \n",
       "17              NaN      NaN  "
      ]
     },
     "execution_count": 3,
     "metadata": {},
     "output_type": "execute_result"
    }
   ],
   "source": [
    "import pandas as pd\n",
    "\n",
    "try:\n",
    "    dfNewLina = pd.read_excel(NewLinaExcelFile, sheetname = 'Sheet1')\n",
    "    print(dfNewLina.shape)\n",
    "except:\n",
    "    print('ERROR: File NOT found')\n",
    "    \n",
    "dfNewLina[15:18]\n"
   ]
  },
  {
   "cell_type": "markdown",
   "metadata": {},
   "source": [
    "# Compare #No of Columns and Columns Names in New & Prev Lina's File"
   ]
  },
  {
   "cell_type": "code",
   "execution_count": 4,
   "metadata": {},
   "outputs": [
    {
     "name": "stdout",
     "output_type": "stream",
     "text": [
      "230 12 230 12\n",
      "OK: Number of Columns are the SAME\n",
      "OK: Column Names are the SAME\n"
     ]
    }
   ],
   "source": [
    "#1st Check the #No of Columns in both file\n",
    "NewRowCnt, NewColCnt =  dfNewLina.shape\n",
    "PrevRowCnt, PrevColCnt = dfPrevLina.shape\n",
    "print(NewRowCnt, NewColCnt,PrevRowCnt, PrevColCnt)\n",
    "\n",
    "if NewColCnt == PrevColCnt:\n",
    "    print('OK: Number of Columns are the SAME')\n",
    "else:\n",
    "    print('Error: check the Dimension')\n",
    "        \n",
    "# 2nd check the Columns NAMEs \n",
    "N = [[] for k in range(NewColCnt)]\n",
    "P = [[] for k in range(NewColCnt)]\n",
    "\n",
    "for i in range(NewColCnt):\n",
    "    N[i]=dfNewLina.columns[i]\n",
    "    P[i]=dfPrevLina.columns[i]\n",
    "    \n",
    "if N == P:\n",
    "    print('OK: Column Names are the SAME')\n",
    "else:\n",
    "    print('Error: Check Columns Names')\n"
   ]
  },
  {
   "cell_type": "markdown",
   "metadata": {
    "scrolled": true
   },
   "source": [
    "# Understand the Anatomy of your Columns"
   ]
  },
  {
   "cell_type": "code",
   "execution_count": 5,
   "metadata": {},
   "outputs": [
    {
     "name": "stdout",
     "output_type": "stream",
     "text": [
      "0=>Factory Name<\n",
      "1=>PO Date-Ordered On <\n",
      "2=>PO Number<\n",
      "3=>SKU<\n",
      "4=>Qty<\n",
      "5=>ETA<\n",
      "6=>Arrival Date<\n",
      "7=>PO Number-SC<\n",
      "8=>Cost<\n",
      "9=>Added to SC? <\n",
      "10=>QTY ADDED TO SC?<\n",
      "11=>Comments<\n"
     ]
    }
   ],
   "source": [
    "i=0\n",
    "for c in dfNewLina.columns: \n",
    "    print('{}=>{}<'.format(i,c))\n",
    "    i+=1"
   ]
  },
  {
   "cell_type": "code",
   "execution_count": 7,
   "metadata": {},
   "outputs": [
    {
     "data": {
      "text/plain": [
       "Index(['Factory Name', 'PO Date-Ordered On ', 'PO Number', 'SKU', 'Qty', 'ETA',\n",
       "       'Arrival Date', 'PO Number-SC', 'Cost', 'Added to SC? ',\n",
       "       'QTY ADDED TO SC?', 'Comments'],\n",
       "      dtype='object')"
      ]
     },
     "execution_count": 7,
     "metadata": {},
     "output_type": "execute_result"
    }
   ],
   "source": [
    "dfNewLina.columns"
   ]
  },
  {
   "cell_type": "markdown",
   "metadata": {},
   "source": [
    "# RENAME the Columns with your own Names"
   ]
  },
  {
   "cell_type": "code",
   "execution_count": 8,
   "metadata": {},
   "outputs": [
    {
     "name": "stdout",
     "output_type": "stream",
     "text": [
      "(230, 12)\n"
     ]
    },
    {
     "data": {
      "text/html": [
       "<div>\n",
       "<style>\n",
       "    .dataframe thead tr:only-child th {\n",
       "        text-align: right;\n",
       "    }\n",
       "\n",
       "    .dataframe thead th {\n",
       "        text-align: left;\n",
       "    }\n",
       "\n",
       "    .dataframe tbody tr th {\n",
       "        vertical-align: top;\n",
       "    }\n",
       "</style>\n",
       "<table border=\"1\" class=\"dataframe\">\n",
       "  <thead>\n",
       "    <tr style=\"text-align: right;\">\n",
       "      <th></th>\n",
       "      <th>FactoryName</th>\n",
       "      <th>PO_Date_OrderOn</th>\n",
       "      <th>PoNumber</th>\n",
       "      <th>SKU</th>\n",
       "      <th>Qty</th>\n",
       "      <th>ETA</th>\n",
       "      <th>ArrivalDate</th>\n",
       "      <th>PoNumberSC</th>\n",
       "      <th>Cost</th>\n",
       "      <th>AddedToSC</th>\n",
       "      <th>QtyAddedToSC</th>\n",
       "      <th>Comments</th>\n",
       "    </tr>\n",
       "  </thead>\n",
       "  <tbody>\n",
       "    <tr>\n",
       "      <th>15</th>\n",
       "      <td>Wenzhou Youbo</td>\n",
       "      <td>2017-10-23</td>\n",
       "      <td>YB-17SC1017USEVIVA-1</td>\n",
       "      <td>EVMR334-25X39-OK</td>\n",
       "      <td>2.0</td>\n",
       "      <td>2018-01-20 00:00:00</td>\n",
       "      <td>NaN</td>\n",
       "      <td>NaN</td>\n",
       "      <td>X</td>\n",
       "      <td>Yes</td>\n",
       "      <td>NaN</td>\n",
       "      <td>NaN</td>\n",
       "    </tr>\n",
       "    <tr>\n",
       "      <th>16</th>\n",
       "      <td>NaN</td>\n",
       "      <td>NaT</td>\n",
       "      <td>NaN</td>\n",
       "      <td>NaN</td>\n",
       "      <td>NaN</td>\n",
       "      <td>NaN</td>\n",
       "      <td>NaN</td>\n",
       "      <td>NaN</td>\n",
       "      <td>NaN</td>\n",
       "      <td>NaN</td>\n",
       "      <td>NaN</td>\n",
       "      <td>NaN</td>\n",
       "    </tr>\n",
       "    <tr>\n",
       "      <th>17</th>\n",
       "      <td>Sunlight (PI)</td>\n",
       "      <td>2017-11-17</td>\n",
       "      <td>KSLT17085</td>\n",
       "      <td>EVVN412-78WH</td>\n",
       "      <td>10.0</td>\n",
       "      <td>2018-02-15 00:00:00</td>\n",
       "      <td>NaN</td>\n",
       "      <td>NaN</td>\n",
       "      <td>X</td>\n",
       "      <td>NaN</td>\n",
       "      <td>NaN</td>\n",
       "      <td>NaN</td>\n",
       "    </tr>\n",
       "  </tbody>\n",
       "</table>\n",
       "</div>"
      ],
      "text/plain": [
       "      FactoryName PO_Date_OrderOn              PoNumber               SKU  \\\n",
       "15  Wenzhou Youbo      2017-10-23  YB-17SC1017USEVIVA-1  EVMR334-25X39-OK   \n",
       "16            NaN             NaT                   NaN               NaN   \n",
       "17  Sunlight (PI)      2017-11-17             KSLT17085      EVVN412-78WH   \n",
       "\n",
       "     Qty                  ETA  ArrivalDate  PoNumberSC Cost AddedToSC  \\\n",
       "15   2.0  2018-01-20 00:00:00          NaN         NaN    X       Yes   \n",
       "16   NaN                  NaN          NaN         NaN  NaN       NaN   \n",
       "17  10.0  2018-02-15 00:00:00          NaN         NaN    X       NaN   \n",
       "\n",
       "   QtyAddedToSC Comments  \n",
       "15          NaN      NaN  \n",
       "16          NaN      NaN  \n",
       "17          NaN      NaN  "
      ]
     },
     "execution_count": 8,
     "metadata": {},
     "output_type": "execute_result"
    }
   ],
   "source": [
    "NewColNames=('FactoryName','PO_Date_OrderOn','PoNumber','SKU','Qty','ETA','ArrivalDate','PoNumberSC','Cost','AddedToSC','QtyAddedToSC','Comments')\n",
    "\n",
    "dfMyLina=dfNewLina\n",
    "\n",
    "i=0\n",
    "for col in dfMyLina.columns:\n",
    "    dfMyLina=dfMyLina.rename(columns={col:NewColNames[i]}) #dfMyLina =dfMyLina.rename(columns={dfNewLina.columns[0]:NewColNames[0]})\n",
    "    i+=1\n",
    " \n",
    "print(dfMyLina.shape)\n",
    "dfMyLina[15:18]"
   ]
  },
  {
   "cell_type": "markdown",
   "metadata": {},
   "source": [
    "# Delete any ROW with ALL values = NaN"
   ]
  },
  {
   "cell_type": "code",
   "execution_count": 9,
   "metadata": {},
   "outputs": [
    {
     "name": "stdout",
     "output_type": "stream",
     "text": [
      "(212, 12)\n"
     ]
    },
    {
     "data": {
      "text/html": [
       "<div>\n",
       "<style>\n",
       "    .dataframe thead tr:only-child th {\n",
       "        text-align: right;\n",
       "    }\n",
       "\n",
       "    .dataframe thead th {\n",
       "        text-align: left;\n",
       "    }\n",
       "\n",
       "    .dataframe tbody tr th {\n",
       "        vertical-align: top;\n",
       "    }\n",
       "</style>\n",
       "<table border=\"1\" class=\"dataframe\">\n",
       "  <thead>\n",
       "    <tr style=\"text-align: right;\">\n",
       "      <th></th>\n",
       "      <th>FactoryName</th>\n",
       "      <th>PO_Date_OrderOn</th>\n",
       "      <th>PoNumber</th>\n",
       "      <th>SKU</th>\n",
       "      <th>Qty</th>\n",
       "      <th>ETA</th>\n",
       "      <th>ArrivalDate</th>\n",
       "      <th>PoNumberSC</th>\n",
       "      <th>Cost</th>\n",
       "      <th>AddedToSC</th>\n",
       "      <th>QtyAddedToSC</th>\n",
       "      <th>Comments</th>\n",
       "    </tr>\n",
       "  </thead>\n",
       "  <tbody>\n",
       "    <tr>\n",
       "      <th>17</th>\n",
       "      <td>Sunlight (PI)</td>\n",
       "      <td>2017-11-17</td>\n",
       "      <td>KSLT17085</td>\n",
       "      <td>EVVN412-78WH</td>\n",
       "      <td>10.0</td>\n",
       "      <td>2018-02-15 00:00:00</td>\n",
       "      <td>NaN</td>\n",
       "      <td>NaN</td>\n",
       "      <td>X</td>\n",
       "      <td>NaN</td>\n",
       "      <td>NaN</td>\n",
       "      <td>NaN</td>\n",
       "    </tr>\n",
       "    <tr>\n",
       "      <th>18</th>\n",
       "      <td>Sunlight (PI)</td>\n",
       "      <td>2017-11-17</td>\n",
       "      <td>KSLT17085</td>\n",
       "      <td>EVVN412-78GR</td>\n",
       "      <td>5.0</td>\n",
       "      <td>2018-02-15 00:00:00</td>\n",
       "      <td>NaN</td>\n",
       "      <td>NaN</td>\n",
       "      <td>X</td>\n",
       "      <td>NaN</td>\n",
       "      <td>NaN</td>\n",
       "      <td>NaN</td>\n",
       "    </tr>\n",
       "    <tr>\n",
       "      <th>19</th>\n",
       "      <td>Sunlight (PI)</td>\n",
       "      <td>2017-11-17</td>\n",
       "      <td>KSLT17085</td>\n",
       "      <td>EVVN412-78ES</td>\n",
       "      <td>5.0</td>\n",
       "      <td>2018-02-15 00:00:00</td>\n",
       "      <td>NaN</td>\n",
       "      <td>NaN</td>\n",
       "      <td>X</td>\n",
       "      <td>NaN</td>\n",
       "      <td>NaN</td>\n",
       "      <td>NaN</td>\n",
       "    </tr>\n",
       "  </tbody>\n",
       "</table>\n",
       "</div>"
      ],
      "text/plain": [
       "      FactoryName PO_Date_OrderOn   PoNumber           SKU   Qty  \\\n",
       "17  Sunlight (PI)      2017-11-17  KSLT17085  EVVN412-78WH  10.0   \n",
       "18  Sunlight (PI)      2017-11-17  KSLT17085  EVVN412-78GR   5.0   \n",
       "19  Sunlight (PI)      2017-11-17  KSLT17085  EVVN412-78ES   5.0   \n",
       "\n",
       "                    ETA  ArrivalDate  PoNumberSC Cost AddedToSC QtyAddedToSC  \\\n",
       "17  2018-02-15 00:00:00          NaN         NaN    X       NaN          NaN   \n",
       "18  2018-02-15 00:00:00          NaN         NaN    X       NaN          NaN   \n",
       "19  2018-02-15 00:00:00          NaN         NaN    X       NaN          NaN   \n",
       "\n",
       "   Comments  \n",
       "17      NaN  \n",
       "18      NaN  \n",
       "19      NaN  "
      ]
     },
     "execution_count": 9,
     "metadata": {},
     "output_type": "execute_result"
    }
   ],
   "source": [
    "dfNoNaN = dfMyLina.dropna(axis=0, how='all')\n",
    "\n",
    "print(dfNoNaN.shape)\n",
    "dfNoNaN[15:18]"
   ]
  },
  {
   "cell_type": "markdown",
   "metadata": {},
   "source": [
    "# SELECT needed columns ONLY"
   ]
  },
  {
   "cell_type": "code",
   "execution_count": 10,
   "metadata": {},
   "outputs": [
    {
     "data": {
      "text/html": [
       "<div>\n",
       "<style>\n",
       "    .dataframe thead tr:only-child th {\n",
       "        text-align: right;\n",
       "    }\n",
       "\n",
       "    .dataframe thead th {\n",
       "        text-align: left;\n",
       "    }\n",
       "\n",
       "    .dataframe tbody tr th {\n",
       "        vertical-align: top;\n",
       "    }\n",
       "</style>\n",
       "<table border=\"1\" class=\"dataframe\">\n",
       "  <thead>\n",
       "    <tr style=\"text-align: right;\">\n",
       "      <th></th>\n",
       "      <th>SKU</th>\n",
       "      <th>Qty</th>\n",
       "      <th>ETA</th>\n",
       "      <th>ArrivalDate</th>\n",
       "      <th>PO_Date_OrderOn</th>\n",
       "      <th>PoNumber</th>\n",
       "    </tr>\n",
       "  </thead>\n",
       "  <tbody>\n",
       "    <tr>\n",
       "      <th>0</th>\n",
       "      <td>EVVN333-48GR</td>\n",
       "      <td>6.0</td>\n",
       "      <td>2018-01-20 00:00:00</td>\n",
       "      <td>NaN</td>\n",
       "      <td>2017-10-23</td>\n",
       "      <td>YB-17SC1017USEVIVA-1</td>\n",
       "    </tr>\n",
       "    <tr>\n",
       "      <th>1</th>\n",
       "      <td>EVMR333-48X28-LED</td>\n",
       "      <td>1.0</td>\n",
       "      <td>2018-01-20 00:00:00</td>\n",
       "      <td>NaN</td>\n",
       "      <td>2017-10-23</td>\n",
       "      <td>YB-17SC1017USEVIVA-1</td>\n",
       "    </tr>\n",
       "    <tr>\n",
       "      <th>2</th>\n",
       "      <td>EVVN333-48WH</td>\n",
       "      <td>4.0</td>\n",
       "      <td>2018-01-20 00:00:00</td>\n",
       "      <td>NaN</td>\n",
       "      <td>2017-10-23</td>\n",
       "      <td>YB-17SC1017USEVIVA-1</td>\n",
       "    </tr>\n",
       "    <tr>\n",
       "      <th>3</th>\n",
       "      <td>EVMR333-48X28-LED</td>\n",
       "      <td>1.0</td>\n",
       "      <td>2018-01-20 00:00:00</td>\n",
       "      <td>NaN</td>\n",
       "      <td>2017-10-23</td>\n",
       "      <td>YB-17SC1017USEVIVA-1</td>\n",
       "    </tr>\n",
       "    <tr>\n",
       "      <th>4</th>\n",
       "      <td>EVCB333-20GR</td>\n",
       "      <td>2.0</td>\n",
       "      <td>2018-01-20 00:00:00</td>\n",
       "      <td>NaN</td>\n",
       "      <td>2017-10-23</td>\n",
       "      <td>YB-17SC1017USEVIVA-1</td>\n",
       "    </tr>\n",
       "  </tbody>\n",
       "</table>\n",
       "</div>"
      ],
      "text/plain": [
       "                 SKU  Qty                  ETA  ArrivalDate PO_Date_OrderOn  \\\n",
       "0       EVVN333-48GR  6.0  2018-01-20 00:00:00          NaN      2017-10-23   \n",
       "1  EVMR333-48X28-LED  1.0  2018-01-20 00:00:00          NaN      2017-10-23   \n",
       "2       EVVN333-48WH  4.0  2018-01-20 00:00:00          NaN      2017-10-23   \n",
       "3  EVMR333-48X28-LED  1.0  2018-01-20 00:00:00          NaN      2017-10-23   \n",
       "4       EVCB333-20GR  2.0  2018-01-20 00:00:00          NaN      2017-10-23   \n",
       "\n",
       "               PoNumber  \n",
       "0  YB-17SC1017USEVIVA-1  \n",
       "1  YB-17SC1017USEVIVA-1  \n",
       "2  YB-17SC1017USEVIVA-1  \n",
       "3  YB-17SC1017USEVIVA-1  \n",
       "4  YB-17SC1017USEVIVA-1  "
      ]
     },
     "execution_count": 10,
     "metadata": {},
     "output_type": "execute_result"
    }
   ],
   "source": [
    "df01 = dfNoNaN[['SKU','Qty','ETA','ArrivalDate','PO_Date_OrderOn','PoNumber']]\n",
    "df01.head(5)"
   ]
  },
  {
   "cell_type": "code",
   "execution_count": null,
   "metadata": {
    "collapsed": true
   },
   "outputs": [],
   "source": []
  }
 ],
 "metadata": {
  "kernelspec": {
   "display_name": "Python 3",
   "language": "python",
   "name": "python3"
  },
  "language_info": {
   "codemirror_mode": {
    "name": "ipython",
    "version": 3
   },
   "file_extension": ".py",
   "mimetype": "text/x-python",
   "name": "python",
   "nbconvert_exporter": "python",
   "pygments_lexer": "ipython3",
   "version": "3.6.3"
  }
 },
 "nbformat": 4,
 "nbformat_minor": 2
}

{
 "cells": [
  {
   "cell_type": "markdown",
   "metadata": {},
   "source": [
    "# File PATHs الكود الحالي مظبوط على الملف القديم , لو الملف الجديد مشابه للقديم : لا نحتاج تغيير في الكود"
   ]
  },
  {
   "cell_type": "code",
   "execution_count": 3,
   "metadata": {
    "collapsed": true
   },
   "outputs": [],
   "source": [
    "Path = 'L:\\\\_Cloud\\\\Dropbox\\\\_Taacis_Working_Folder\\\\_DataScience\\\\_Eviva\\\\_SellerCloud\\\\_Inventory_PredictedPurchase\\\\'\n",
    "NewLinaExcelFile = Path + 'PO containers in the water_25Feb18.xlsx'\n",
    "PrevLinaExcelFile = Path + '21Jan18\\\\PO containers in the water_21Jan18.xlsx'"
   ]
  },
  {
   "cell_type": "markdown",
   "metadata": {
    "scrolled": true
   },
   "source": [
    "# Import the PREVIOUS Excel file"
   ]
  },
  {
   "cell_type": "code",
   "execution_count": 4,
   "metadata": {},
   "outputs": [
    {
     "name": "stdout",
     "output_type": "stream",
     "text": [
      "(230, 12)\n"
     ]
    },
    {
     "data": {
      "text/html": [
       "<div>\n",
       "<style>\n",
       "    .dataframe thead tr:only-child th {\n",
       "        text-align: right;\n",
       "    }\n",
       "\n",
       "    .dataframe thead th {\n",
       "        text-align: left;\n",
       "    }\n",
       "\n",
       "    .dataframe tbody tr th {\n",
       "        vertical-align: top;\n",
       "    }\n",
       "</style>\n",
       "<table border=\"1\" class=\"dataframe\">\n",
       "  <thead>\n",
       "    <tr style=\"text-align: right;\">\n",
       "      <th></th>\n",
       "      <th>Factory Name</th>\n",
       "      <th>PO Date-Ordered On</th>\n",
       "      <th>PO Number</th>\n",
       "      <th>SKU</th>\n",
       "      <th>Qty</th>\n",
       "      <th>ETA</th>\n",
       "      <th>Arrival Date</th>\n",
       "      <th>PO Number-SC</th>\n",
       "      <th>Cost</th>\n",
       "      <th>Added to SC?</th>\n",
       "      <th>QTY ADDED TO SC?</th>\n",
       "      <th>Comments</th>\n",
       "    </tr>\n",
       "  </thead>\n",
       "  <tbody>\n",
       "    <tr>\n",
       "      <th>15</th>\n",
       "      <td>Wenzhou Youbo</td>\n",
       "      <td>2017-10-23</td>\n",
       "      <td>YB-17SC1017USEVIVA-1</td>\n",
       "      <td>EVMR334-25X39-OK</td>\n",
       "      <td>2.0</td>\n",
       "      <td>2018-01-20 00:00:00</td>\n",
       "      <td>NaN</td>\n",
       "      <td>NaN</td>\n",
       "      <td>X</td>\n",
       "      <td>Yes</td>\n",
       "      <td>NaN</td>\n",
       "      <td>NaN</td>\n",
       "    </tr>\n",
       "    <tr>\n",
       "      <th>16</th>\n",
       "      <td>NaN</td>\n",
       "      <td>NaT</td>\n",
       "      <td>NaN</td>\n",
       "      <td>NaN</td>\n",
       "      <td>NaN</td>\n",
       "      <td>NaN</td>\n",
       "      <td>NaN</td>\n",
       "      <td>NaN</td>\n",
       "      <td>NaN</td>\n",
       "      <td>NaN</td>\n",
       "      <td>NaN</td>\n",
       "      <td>NaN</td>\n",
       "    </tr>\n",
       "    <tr>\n",
       "      <th>17</th>\n",
       "      <td>Sunlight (PI)</td>\n",
       "      <td>2017-11-17</td>\n",
       "      <td>KSLT17085</td>\n",
       "      <td>EVVN412-78WH</td>\n",
       "      <td>10.0</td>\n",
       "      <td>2018-02-15 00:00:00</td>\n",
       "      <td>NaN</td>\n",
       "      <td>NaN</td>\n",
       "      <td>X</td>\n",
       "      <td>NaN</td>\n",
       "      <td>NaN</td>\n",
       "      <td>NaN</td>\n",
       "    </tr>\n",
       "  </tbody>\n",
       "</table>\n",
       "</div>"
      ],
      "text/plain": [
       "     Factory Name PO Date-Ordered On              PO Number               SKU  \\\n",
       "15  Wenzhou Youbo          2017-10-23  YB-17SC1017USEVIVA-1  EVMR334-25X39-OK   \n",
       "16            NaN                 NaT                   NaN               NaN   \n",
       "17  Sunlight (PI)          2017-11-17             KSLT17085      EVVN412-78WH   \n",
       "\n",
       "     Qty                  ETA  Arrival Date  PO Number-SC Cost Added to SC?   \\\n",
       "15   2.0  2018-01-20 00:00:00           NaN           NaN    X           Yes   \n",
       "16   NaN                  NaN           NaN           NaN  NaN           NaN   \n",
       "17  10.0  2018-02-15 00:00:00           NaN           NaN    X           NaN   \n",
       "\n",
       "   QTY ADDED TO SC? Comments  \n",
       "15              NaN      NaN  \n",
       "16              NaN      NaN  \n",
       "17              NaN      NaN  "
      ]
     },
     "execution_count": 4,
     "metadata": {},
     "output_type": "execute_result"
    }
   ],
   "source": [
    "import pandas as pd\n",
    "\n",
    "try:\n",
    "    dfPrevLina = pd.read_excel(PrevLinaExcelFile, sheetname = 'Sheet1')\n",
    "    print(dfPrevLina.shape)\n",
    "except:\n",
    "    print('ERROR: File NOT found')\n",
    "    \n",
    "dfPrevLina[15:18]\n"
   ]
  },
  {
   "cell_type": "code",
   "execution_count": null,
   "metadata": {
    "collapsed": true
   },
   "outputs": [],
   "source": []
  },
  {
   "cell_type": "markdown",
   "metadata": {
    "scrolled": true
   },
   "source": [
    "# Import the NEW Excel file"
   ]
  },
  {
   "cell_type": "code",
   "execution_count": 5,
   "metadata": {},
   "outputs": [
    {
     "name": "stdout",
     "output_type": "stream",
     "text": [
      "(175, 12)\n"
     ]
    },
    {
     "data": {
      "text/html": [
       "<div>\n",
       "<style>\n",
       "    .dataframe thead tr:only-child th {\n",
       "        text-align: right;\n",
       "    }\n",
       "\n",
       "    .dataframe thead th {\n",
       "        text-align: left;\n",
       "    }\n",
       "\n",
       "    .dataframe tbody tr th {\n",
       "        vertical-align: top;\n",
       "    }\n",
       "</style>\n",
       "<table border=\"1\" class=\"dataframe\">\n",
       "  <thead>\n",
       "    <tr style=\"text-align: right;\">\n",
       "      <th></th>\n",
       "      <th>Factory Name</th>\n",
       "      <th>PO Date-Ordered On</th>\n",
       "      <th>PO Number</th>\n",
       "      <th>SKU</th>\n",
       "      <th>Qty</th>\n",
       "      <th>ETA</th>\n",
       "      <th>Arrival Date</th>\n",
       "      <th>PO Number-SC</th>\n",
       "      <th>Cost</th>\n",
       "      <th>Added to SC?</th>\n",
       "      <th>QTY ADDED TO SC?</th>\n",
       "      <th>Comments</th>\n",
       "    </tr>\n",
       "  </thead>\n",
       "  <tbody>\n",
       "    <tr>\n",
       "      <th>15</th>\n",
       "      <td>Sunlight PI</td>\n",
       "      <td>2017-11-23 00:00:00</td>\n",
       "      <td>KSLT17092</td>\n",
       "      <td>TVN414-24X18ES</td>\n",
       "      <td>10.0</td>\n",
       "      <td>2017-01-23</td>\n",
       "      <td>NaN</td>\n",
       "      <td>NaN</td>\n",
       "      <td>NaN</td>\n",
       "      <td>NaN</td>\n",
       "      <td>NaN</td>\n",
       "      <td>NaN</td>\n",
       "    </tr>\n",
       "    <tr>\n",
       "      <th>16</th>\n",
       "      <td>Sunlight PI</td>\n",
       "      <td>2017-11-23 00:00:00</td>\n",
       "      <td>KSLT17092</td>\n",
       "      <td>TVN414-30X18WH</td>\n",
       "      <td>10.0</td>\n",
       "      <td>2017-01-23</td>\n",
       "      <td>NaN</td>\n",
       "      <td>NaN</td>\n",
       "      <td>NaN</td>\n",
       "      <td>NaN</td>\n",
       "      <td>NaN</td>\n",
       "      <td>NaN</td>\n",
       "    </tr>\n",
       "    <tr>\n",
       "      <th>17</th>\n",
       "      <td>Sunlight PI</td>\n",
       "      <td>2017-11-23 00:00:00</td>\n",
       "      <td>KSLT17092</td>\n",
       "      <td>TVN414-30X18GR</td>\n",
       "      <td>10.0</td>\n",
       "      <td>2017-01-23</td>\n",
       "      <td>NaN</td>\n",
       "      <td>NaN</td>\n",
       "      <td>NaN</td>\n",
       "      <td>NaN</td>\n",
       "      <td>NaN</td>\n",
       "      <td>NaN</td>\n",
       "    </tr>\n",
       "  </tbody>\n",
       "</table>\n",
       "</div>"
      ],
      "text/plain": [
       "   Factory Name  PO Date-Ordered On   PO Number             SKU   Qty  \\\n",
       "15  Sunlight PI  2017-11-23 00:00:00  KSLT17092  TVN414-24X18ES  10.0   \n",
       "16  Sunlight PI  2017-11-23 00:00:00  KSLT17092  TVN414-30X18WH  10.0   \n",
       "17  Sunlight PI  2017-11-23 00:00:00  KSLT17092  TVN414-30X18GR  10.0   \n",
       "\n",
       "          ETA  Arrival Date  PO Number-SC Cost  Added to SC?   \\\n",
       "15 2017-01-23           NaN           NaN  NaN            NaN   \n",
       "16 2017-01-23           NaN           NaN  NaN            NaN   \n",
       "17 2017-01-23           NaN           NaN  NaN            NaN   \n",
       "\n",
       "    QTY ADDED TO SC? Comments  \n",
       "15               NaN      NaN  \n",
       "16               NaN      NaN  \n",
       "17               NaN      NaN  "
      ]
     },
     "execution_count": 5,
     "metadata": {},
     "output_type": "execute_result"
    }
   ],
   "source": [
    "import pandas as pd\n",
    "\n",
    "try:\n",
    "    dfNewLina = pd.read_excel(NewLinaExcelFile, sheetname = 'Sheet1')\n",
    "    print(dfNewLina.shape)\n",
    "except:\n",
    "    print('ERROR: File NOT found')\n",
    "    \n",
    "dfNewLina[15:18]\n"
   ]
  },
  {
   "cell_type": "markdown",
   "metadata": {},
   "source": [
    "# Compare #No of Columns and Columns Names in New & Prev Lina's File"
   ]
  },
  {
   "cell_type": "code",
   "execution_count": 6,
   "metadata": {},
   "outputs": [
    {
     "name": "stdout",
     "output_type": "stream",
     "text": [
      "175 12 230 12\n",
      "OK: Number of Columns are the SAME\n",
      "OK: Column Names are the SAME\n"
     ]
    }
   ],
   "source": [
    "#1st Check the #No of Columns in both file\n",
    "NewRowCnt, NewColCnt =  dfNewLina.shape\n",
    "PrevRowCnt, PrevColCnt = dfPrevLina.shape\n",
    "print(NewRowCnt, NewColCnt,PrevRowCnt, PrevColCnt)\n",
    "\n",
    "if NewColCnt == PrevColCnt:\n",
    "    print('OK: Number of Columns are the SAME')\n",
    "else:\n",
    "    print('Error: check the Dimension')\n",
    "        \n",
    "# 2nd check the Columns NAMEs \n",
    "N = [[] for k in range(NewColCnt)]\n",
    "P = [[] for k in range(NewColCnt)]\n",
    "\n",
    "for i in range(NewColCnt):\n",
    "    N[i]=dfNewLina.columns[i]\n",
    "    P[i]=dfPrevLina.columns[i]\n",
    "    \n",
    "if N == P:\n",
    "    print('OK: Column Names are the SAME')\n",
    "else:\n",
    "    print('Error: Check Columns Names')\n"
   ]
  },
  {
   "cell_type": "markdown",
   "metadata": {
    "scrolled": true
   },
   "source": [
    "# Understand the Anatomy of your Columns"
   ]
  },
  {
   "cell_type": "code",
   "execution_count": 7,
   "metadata": {},
   "outputs": [
    {
     "name": "stdout",
     "output_type": "stream",
     "text": [
      "0=>Factory Name<\n",
      "1=>PO Date-Ordered On <\n",
      "2=>PO Number<\n",
      "3=>SKU<\n",
      "4=>Qty<\n",
      "5=>ETA<\n",
      "6=>Arrival Date<\n",
      "7=>PO Number-SC<\n",
      "8=>Cost<\n",
      "9=>Added to SC? <\n",
      "10=>QTY ADDED TO SC?<\n",
      "11=>Comments<\n"
     ]
    }
   ],
   "source": [
    "i=0\n",
    "for c in dfNewLina.columns: \n",
    "    print('{}=>{}<'.format(i,c))\n",
    "    i+=1"
   ]
  },
  {
   "cell_type": "code",
   "execution_count": 8,
   "metadata": {},
   "outputs": [
    {
     "data": {
      "text/plain": [
       "Index(['Factory Name', 'PO Date-Ordered On ', 'PO Number', 'SKU', 'Qty', 'ETA',\n",
       "       'Arrival Date', 'PO Number-SC', 'Cost', 'Added to SC? ',\n",
       "       'QTY ADDED TO SC?', 'Comments'],\n",
       "      dtype='object')"
      ]
     },
     "execution_count": 8,
     "metadata": {},
     "output_type": "execute_result"
    }
   ],
   "source": [
    "dfNewLina.columns"
   ]
  },
  {
   "cell_type": "markdown",
   "metadata": {},
   "source": [
    "# RENAME the Columns with your own Names"
   ]
  },
  {
   "cell_type": "code",
   "execution_count": 9,
   "metadata": {},
   "outputs": [
    {
     "name": "stdout",
     "output_type": "stream",
     "text": [
      "(175, 12)\n"
     ]
    },
    {
     "data": {
      "text/html": [
       "<div>\n",
       "<style>\n",
       "    .dataframe thead tr:only-child th {\n",
       "        text-align: right;\n",
       "    }\n",
       "\n",
       "    .dataframe thead th {\n",
       "        text-align: left;\n",
       "    }\n",
       "\n",
       "    .dataframe tbody tr th {\n",
       "        vertical-align: top;\n",
       "    }\n",
       "</style>\n",
       "<table border=\"1\" class=\"dataframe\">\n",
       "  <thead>\n",
       "    <tr style=\"text-align: right;\">\n",
       "      <th></th>\n",
       "      <th>FactoryName</th>\n",
       "      <th>PO_Date_OrderOn</th>\n",
       "      <th>PoNumber</th>\n",
       "      <th>SKU</th>\n",
       "      <th>Qty</th>\n",
       "      <th>ETA</th>\n",
       "      <th>ArrivalDate</th>\n",
       "      <th>PoNumberSC</th>\n",
       "      <th>Cost</th>\n",
       "      <th>AddedToSC</th>\n",
       "      <th>QtyAddedToSC</th>\n",
       "      <th>Comments</th>\n",
       "    </tr>\n",
       "  </thead>\n",
       "  <tbody>\n",
       "    <tr>\n",
       "      <th>15</th>\n",
       "      <td>Sunlight PI</td>\n",
       "      <td>2017-11-23 00:00:00</td>\n",
       "      <td>KSLT17092</td>\n",
       "      <td>TVN414-24X18ES</td>\n",
       "      <td>10.0</td>\n",
       "      <td>2017-01-23</td>\n",
       "      <td>NaN</td>\n",
       "      <td>NaN</td>\n",
       "      <td>NaN</td>\n",
       "      <td>NaN</td>\n",
       "      <td>NaN</td>\n",
       "      <td>NaN</td>\n",
       "    </tr>\n",
       "    <tr>\n",
       "      <th>16</th>\n",
       "      <td>Sunlight PI</td>\n",
       "      <td>2017-11-23 00:00:00</td>\n",
       "      <td>KSLT17092</td>\n",
       "      <td>TVN414-30X18WH</td>\n",
       "      <td>10.0</td>\n",
       "      <td>2017-01-23</td>\n",
       "      <td>NaN</td>\n",
       "      <td>NaN</td>\n",
       "      <td>NaN</td>\n",
       "      <td>NaN</td>\n",
       "      <td>NaN</td>\n",
       "      <td>NaN</td>\n",
       "    </tr>\n",
       "    <tr>\n",
       "      <th>17</th>\n",
       "      <td>Sunlight PI</td>\n",
       "      <td>2017-11-23 00:00:00</td>\n",
       "      <td>KSLT17092</td>\n",
       "      <td>TVN414-30X18GR</td>\n",
       "      <td>10.0</td>\n",
       "      <td>2017-01-23</td>\n",
       "      <td>NaN</td>\n",
       "      <td>NaN</td>\n",
       "      <td>NaN</td>\n",
       "      <td>NaN</td>\n",
       "      <td>NaN</td>\n",
       "      <td>NaN</td>\n",
       "    </tr>\n",
       "  </tbody>\n",
       "</table>\n",
       "</div>"
      ],
      "text/plain": [
       "    FactoryName      PO_Date_OrderOn   PoNumber             SKU   Qty  \\\n",
       "15  Sunlight PI  2017-11-23 00:00:00  KSLT17092  TVN414-24X18ES  10.0   \n",
       "16  Sunlight PI  2017-11-23 00:00:00  KSLT17092  TVN414-30X18WH  10.0   \n",
       "17  Sunlight PI  2017-11-23 00:00:00  KSLT17092  TVN414-30X18GR  10.0   \n",
       "\n",
       "          ETA  ArrivalDate  PoNumberSC Cost  AddedToSC  QtyAddedToSC Comments  \n",
       "15 2017-01-23          NaN         NaN  NaN        NaN           NaN      NaN  \n",
       "16 2017-01-23          NaN         NaN  NaN        NaN           NaN      NaN  \n",
       "17 2017-01-23          NaN         NaN  NaN        NaN           NaN      NaN  "
      ]
     },
     "execution_count": 9,
     "metadata": {},
     "output_type": "execute_result"
    }
   ],
   "source": [
    "NewColNames=('FactoryName','PO_Date_OrderOn','PoNumber','SKU','Qty','ETA','ArrivalDate','PoNumberSC','Cost','AddedToSC','QtyAddedToSC','Comments')\n",
    "\n",
    "dfMyLina=dfNewLina\n",
    "\n",
    "i=0\n",
    "for col in dfMyLina.columns:\n",
    "    dfMyLina=dfMyLina.rename(columns={col:NewColNames[i]}) #dfMyLina =dfMyLina.rename(columns={dfNewLina.columns[0]:NewColNames[0]})\n",
    "    i+=1\n",
    " \n",
    "print(dfMyLina.shape)\n",
    "dfMyLina[15:18]"
   ]
  },
  {
   "cell_type": "markdown",
   "metadata": {},
   "source": [
    "# Delete any ROW with ALL values = NaN"
   ]
  },
  {
   "cell_type": "code",
   "execution_count": 10,
   "metadata": {},
   "outputs": [
    {
     "name": "stdout",
     "output_type": "stream",
     "text": [
      "(174, 12)\n"
     ]
    },
    {
     "data": {
      "text/html": [
       "<div>\n",
       "<style>\n",
       "    .dataframe thead tr:only-child th {\n",
       "        text-align: right;\n",
       "    }\n",
       "\n",
       "    .dataframe thead th {\n",
       "        text-align: left;\n",
       "    }\n",
       "\n",
       "    .dataframe tbody tr th {\n",
       "        vertical-align: top;\n",
       "    }\n",
       "</style>\n",
       "<table border=\"1\" class=\"dataframe\">\n",
       "  <thead>\n",
       "    <tr style=\"text-align: right;\">\n",
       "      <th></th>\n",
       "      <th>FactoryName</th>\n",
       "      <th>PO_Date_OrderOn</th>\n",
       "      <th>PoNumber</th>\n",
       "      <th>SKU</th>\n",
       "      <th>Qty</th>\n",
       "      <th>ETA</th>\n",
       "      <th>ArrivalDate</th>\n",
       "      <th>PoNumberSC</th>\n",
       "      <th>Cost</th>\n",
       "      <th>AddedToSC</th>\n",
       "      <th>QtyAddedToSC</th>\n",
       "      <th>Comments</th>\n",
       "    </tr>\n",
       "  </thead>\n",
       "  <tbody>\n",
       "    <tr>\n",
       "      <th>16</th>\n",
       "      <td>Sunlight PI</td>\n",
       "      <td>2017-11-23 00:00:00</td>\n",
       "      <td>KSLT17092</td>\n",
       "      <td>TVN414-30X18WH</td>\n",
       "      <td>10.0</td>\n",
       "      <td>2017-01-23</td>\n",
       "      <td>NaN</td>\n",
       "      <td>NaN</td>\n",
       "      <td>NaN</td>\n",
       "      <td>NaN</td>\n",
       "      <td>NaN</td>\n",
       "      <td>NaN</td>\n",
       "    </tr>\n",
       "    <tr>\n",
       "      <th>17</th>\n",
       "      <td>Sunlight PI</td>\n",
       "      <td>2017-11-23 00:00:00</td>\n",
       "      <td>KSLT17092</td>\n",
       "      <td>TVN414-30X18GR</td>\n",
       "      <td>10.0</td>\n",
       "      <td>2017-01-23</td>\n",
       "      <td>NaN</td>\n",
       "      <td>NaN</td>\n",
       "      <td>NaN</td>\n",
       "      <td>NaN</td>\n",
       "      <td>NaN</td>\n",
       "      <td>NaN</td>\n",
       "    </tr>\n",
       "    <tr>\n",
       "      <th>18</th>\n",
       "      <td>Sunlight PI</td>\n",
       "      <td>2017-11-23 00:00:00</td>\n",
       "      <td>KSLT17092</td>\n",
       "      <td>TVN414-30X18ES</td>\n",
       "      <td>10.0</td>\n",
       "      <td>2017-01-23</td>\n",
       "      <td>NaN</td>\n",
       "      <td>NaN</td>\n",
       "      <td>NaN</td>\n",
       "      <td>NaN</td>\n",
       "      <td>NaN</td>\n",
       "      <td>NaN</td>\n",
       "    </tr>\n",
       "  </tbody>\n",
       "</table>\n",
       "</div>"
      ],
      "text/plain": [
       "    FactoryName      PO_Date_OrderOn   PoNumber             SKU   Qty  \\\n",
       "16  Sunlight PI  2017-11-23 00:00:00  KSLT17092  TVN414-30X18WH  10.0   \n",
       "17  Sunlight PI  2017-11-23 00:00:00  KSLT17092  TVN414-30X18GR  10.0   \n",
       "18  Sunlight PI  2017-11-23 00:00:00  KSLT17092  TVN414-30X18ES  10.0   \n",
       "\n",
       "          ETA  ArrivalDate  PoNumberSC Cost  AddedToSC  QtyAddedToSC Comments  \n",
       "16 2017-01-23          NaN         NaN  NaN        NaN           NaN      NaN  \n",
       "17 2017-01-23          NaN         NaN  NaN        NaN           NaN      NaN  \n",
       "18 2017-01-23          NaN         NaN  NaN        NaN           NaN      NaN  "
      ]
     },
     "execution_count": 10,
     "metadata": {},
     "output_type": "execute_result"
    }
   ],
   "source": [
    "dfNoNaN = dfMyLina.dropna(axis=0, how='all')\n",
    "\n",
    "print(dfNoNaN.shape)\n",
    "dfNoNaN[15:18]"
   ]
  },
  {
   "cell_type": "markdown",
   "metadata": {},
   "source": [
    "# SELECT needed columns ONLY"
   ]
  },
  {
   "cell_type": "code",
   "execution_count": 196,
   "metadata": {},
   "outputs": [
    {
     "data": {
      "text/html": [
       "<div>\n",
       "<style>\n",
       "    .dataframe thead tr:only-child th {\n",
       "        text-align: right;\n",
       "    }\n",
       "\n",
       "    .dataframe thead th {\n",
       "        text-align: left;\n",
       "    }\n",
       "\n",
       "    .dataframe tbody tr th {\n",
       "        vertical-align: top;\n",
       "    }\n",
       "</style>\n",
       "<table border=\"1\" class=\"dataframe\">\n",
       "  <thead>\n",
       "    <tr style=\"text-align: right;\">\n",
       "      <th></th>\n",
       "      <th>SKU</th>\n",
       "      <th>Qty</th>\n",
       "      <th>ETA</th>\n",
       "      <th>ArrivalDate</th>\n",
       "      <th>PO_Date_OrderOn</th>\n",
       "      <th>PoNumber</th>\n",
       "    </tr>\n",
       "  </thead>\n",
       "  <tbody>\n",
       "    <tr>\n",
       "      <th>1</th>\n",
       "      <td>EVVN412--72GR</td>\n",
       "      <td>30.0</td>\n",
       "      <td>2017-01-23</td>\n",
       "      <td>NaN</td>\n",
       "      <td>2017-11-23 00:00:00</td>\n",
       "      <td>KSLT17092</td>\n",
       "    </tr>\n",
       "    <tr>\n",
       "      <th>2</th>\n",
       "      <td>EVVN412-42WH</td>\n",
       "      <td>20.0</td>\n",
       "      <td>2017-01-23</td>\n",
       "      <td>NaN</td>\n",
       "      <td>2017-11-23 00:00:00</td>\n",
       "      <td>KSLT17092</td>\n",
       "    </tr>\n",
       "    <tr>\n",
       "      <th>3</th>\n",
       "      <td>EVVN412-42GR</td>\n",
       "      <td>15.0</td>\n",
       "      <td>2017-01-23</td>\n",
       "      <td>NaN</td>\n",
       "      <td>2017-11-23 00:00:00</td>\n",
       "      <td>KSLT17092</td>\n",
       "    </tr>\n",
       "    <tr>\n",
       "      <th>4</th>\n",
       "      <td>EVVN412-42ES</td>\n",
       "      <td>10.0</td>\n",
       "      <td>2017-01-23</td>\n",
       "      <td>NaN</td>\n",
       "      <td>2017-11-23 00:00:00</td>\n",
       "      <td>KSLT17092</td>\n",
       "    </tr>\n",
       "    <tr>\n",
       "      <th>5</th>\n",
       "      <td>EVVN78-48WH</td>\n",
       "      <td>5.0</td>\n",
       "      <td>2017-01-23</td>\n",
       "      <td>NaN</td>\n",
       "      <td>2017-11-23 00:00:00</td>\n",
       "      <td>KSLT17092</td>\n",
       "    </tr>\n",
       "  </tbody>\n",
       "</table>\n",
       "</div>"
      ],
      "text/plain": [
       "             SKU   Qty        ETA  ArrivalDate      PO_Date_OrderOn   PoNumber\n",
       "1  EVVN412--72GR  30.0 2017-01-23          NaN  2017-11-23 00:00:00  KSLT17092\n",
       "2   EVVN412-42WH  20.0 2017-01-23          NaN  2017-11-23 00:00:00  KSLT17092\n",
       "3   EVVN412-42GR  15.0 2017-01-23          NaN  2017-11-23 00:00:00  KSLT17092\n",
       "4   EVVN412-42ES  10.0 2017-01-23          NaN  2017-11-23 00:00:00  KSLT17092\n",
       "5    EVVN78-48WH   5.0 2017-01-23          NaN  2017-11-23 00:00:00  KSLT17092"
      ]
     },
     "execution_count": 196,
     "metadata": {},
     "output_type": "execute_result"
    }
   ],
   "source": [
    "df01 = dfNoNaN[['SKU','Qty','ETA','ArrivalDate','PO_Date_OrderOn','PoNumber']]\n",
    "df01.head(5)"
   ]
  },
  {
   "cell_type": "code",
   "execution_count": 197,
   "metadata": {
    "scrolled": true
   },
   "outputs": [
    {
     "data": {
      "text/plain": [
       "(174, 6)"
      ]
     },
     "execution_count": 197,
     "metadata": {},
     "output_type": "execute_result"
    }
   ],
   "source": [
    "df01.shape"
   ]
  },
  {
   "cell_type": "markdown",
   "metadata": {},
   "source": [
    "# SELECT needed rows ONLY"
   ]
  },
  {
   "cell_type": "code",
   "execution_count": 229,
   "metadata": {},
   "outputs": [
    {
     "data": {
      "text/html": [
       "<div>\n",
       "<style>\n",
       "    .dataframe thead tr:only-child th {\n",
       "        text-align: right;\n",
       "    }\n",
       "\n",
       "    .dataframe thead th {\n",
       "        text-align: left;\n",
       "    }\n",
       "\n",
       "    .dataframe tbody tr th {\n",
       "        vertical-align: top;\n",
       "    }\n",
       "</style>\n",
       "<table border=\"1\" class=\"dataframe\">\n",
       "  <thead>\n",
       "    <tr style=\"text-align: right;\">\n",
       "      <th></th>\n",
       "      <th>SKU</th>\n",
       "      <th>Qty</th>\n",
       "      <th>ETA</th>\n",
       "      <th>ArrivalDate</th>\n",
       "      <th>PO_Date_OrderOn</th>\n",
       "      <th>PoNumber</th>\n",
       "    </tr>\n",
       "  </thead>\n",
       "  <tbody>\n",
       "    <tr>\n",
       "      <th>59</th>\n",
       "      <td>EVVN412-42WH</td>\n",
       "      <td>20.0</td>\n",
       "      <td>2018-02-28</td>\n",
       "      <td>NaN</td>\n",
       "      <td>2017-12-14 00:00:00</td>\n",
       "      <td>KSLT17100</td>\n",
       "    </tr>\n",
       "    <tr>\n",
       "      <th>60</th>\n",
       "      <td>EVVN412-42GR</td>\n",
       "      <td>20.0</td>\n",
       "      <td>2018-02-28</td>\n",
       "      <td>NaN</td>\n",
       "      <td>2017-12-14 00:00:00</td>\n",
       "      <td>KSLT17100</td>\n",
       "    </tr>\n",
       "    <tr>\n",
       "      <th>61</th>\n",
       "      <td>EVVN412-42ES</td>\n",
       "      <td>10.0</td>\n",
       "      <td>2018-02-28</td>\n",
       "      <td>NaN</td>\n",
       "      <td>2017-12-14 00:00:00</td>\n",
       "      <td>KSLT17100</td>\n",
       "    </tr>\n",
       "    <tr>\n",
       "      <th>62</th>\n",
       "      <td>EVVN123-48WH</td>\n",
       "      <td>10.0</td>\n",
       "      <td>2018-02-28</td>\n",
       "      <td>NaN</td>\n",
       "      <td>2017-12-14 00:00:00</td>\n",
       "      <td>KSLT17100</td>\n",
       "    </tr>\n",
       "    <tr>\n",
       "      <th>63</th>\n",
       "      <td>EVVN123-48GR</td>\n",
       "      <td>10.0</td>\n",
       "      <td>2018-02-28</td>\n",
       "      <td>NaN</td>\n",
       "      <td>2017-12-14 00:00:00</td>\n",
       "      <td>KSLT17100</td>\n",
       "    </tr>\n",
       "  </tbody>\n",
       "</table>\n",
       "</div>"
      ],
      "text/plain": [
       "             SKU   Qty        ETA  ArrivalDate      PO_Date_OrderOn   PoNumber\n",
       "59  EVVN412-42WH  20.0 2018-02-28          NaN  2017-12-14 00:00:00  KSLT17100\n",
       "60  EVVN412-42GR  20.0 2018-02-28          NaN  2017-12-14 00:00:00  KSLT17100\n",
       "61  EVVN412-42ES  10.0 2018-02-28          NaN  2017-12-14 00:00:00  KSLT17100\n",
       "62  EVVN123-48WH  10.0 2018-02-28          NaN  2017-12-14 00:00:00  KSLT17100\n",
       "63  EVVN123-48GR  10.0 2018-02-28          NaN  2017-12-14 00:00:00  KSLT17100"
      ]
     },
     "execution_count": 229,
     "metadata": {},
     "output_type": "execute_result"
    }
   ],
   "source": [
    "df02 = df01[df01['ETA'] > datetime.now()]\n",
    "df02.head()\n"
   ]
  },
  {
   "cell_type": "code",
   "execution_count": null,
   "metadata": {
    "collapsed": true
   },
   "outputs": [],
   "source": [
    "df02 = df02.reset_index()\n",
    "\n",
    "df02.head()"
   ]
  },
  {
   "cell_type": "code",
   "execution_count": 230,
   "metadata": {},
   "outputs": [
    {
     "data": {
      "text/html": [
       "<div>\n",
       "<style>\n",
       "    .dataframe thead tr:only-child th {\n",
       "        text-align: right;\n",
       "    }\n",
       "\n",
       "    .dataframe thead th {\n",
       "        text-align: left;\n",
       "    }\n",
       "\n",
       "    .dataframe tbody tr th {\n",
       "        vertical-align: top;\n",
       "    }\n",
       "</style>\n",
       "<table border=\"1\" class=\"dataframe\">\n",
       "  <thead>\n",
       "    <tr style=\"text-align: right;\">\n",
       "      <th></th>\n",
       "      <th>SKU</th>\n",
       "      <th>Qty</th>\n",
       "      <th>ETA</th>\n",
       "      <th>ArrivalDate</th>\n",
       "      <th>PO_Date_OrderOn</th>\n",
       "      <th>PoNumber</th>\n",
       "    </tr>\n",
       "  </thead>\n",
       "  <tbody>\n",
       "    <tr>\n",
       "      <th>0</th>\n",
       "      <td>EVVN412-42WH</td>\n",
       "      <td>20.0</td>\n",
       "      <td>2018-02-28</td>\n",
       "      <td>NaN</td>\n",
       "      <td>2017-12-14 00:00:00</td>\n",
       "      <td>KSLT17100</td>\n",
       "    </tr>\n",
       "    <tr>\n",
       "      <th>1</th>\n",
       "      <td>EVVN412-42GR</td>\n",
       "      <td>20.0</td>\n",
       "      <td>2018-02-28</td>\n",
       "      <td>NaN</td>\n",
       "      <td>2017-12-14 00:00:00</td>\n",
       "      <td>KSLT17100</td>\n",
       "    </tr>\n",
       "    <tr>\n",
       "      <th>2</th>\n",
       "      <td>EVVN412-42ES</td>\n",
       "      <td>10.0</td>\n",
       "      <td>2018-02-28</td>\n",
       "      <td>NaN</td>\n",
       "      <td>2017-12-14 00:00:00</td>\n",
       "      <td>KSLT17100</td>\n",
       "    </tr>\n",
       "    <tr>\n",
       "      <th>3</th>\n",
       "      <td>EVVN123-48WH</td>\n",
       "      <td>10.0</td>\n",
       "      <td>2018-02-28</td>\n",
       "      <td>NaN</td>\n",
       "      <td>2017-12-14 00:00:00</td>\n",
       "      <td>KSLT17100</td>\n",
       "    </tr>\n",
       "    <tr>\n",
       "      <th>4</th>\n",
       "      <td>EVVN123-48GR</td>\n",
       "      <td>10.0</td>\n",
       "      <td>2018-02-28</td>\n",
       "      <td>NaN</td>\n",
       "      <td>2017-12-14 00:00:00</td>\n",
       "      <td>KSLT17100</td>\n",
       "    </tr>\n",
       "  </tbody>\n",
       "</table>\n",
       "</div>"
      ],
      "text/plain": [
       "            SKU   Qty        ETA  ArrivalDate      PO_Date_OrderOn   PoNumber\n",
       "0  EVVN412-42WH  20.0 2018-02-28          NaN  2017-12-14 00:00:00  KSLT17100\n",
       "1  EVVN412-42GR  20.0 2018-02-28          NaN  2017-12-14 00:00:00  KSLT17100\n",
       "2  EVVN412-42ES  10.0 2018-02-28          NaN  2017-12-14 00:00:00  KSLT17100\n",
       "3  EVVN123-48WH  10.0 2018-02-28          NaN  2017-12-14 00:00:00  KSLT17100\n",
       "4  EVVN123-48GR  10.0 2018-02-28          NaN  2017-12-14 00:00:00  KSLT17100"
      ]
     },
     "execution_count": 230,
     "metadata": {},
     "output_type": "execute_result"
    }
   ],
   "source": [
    "del df02['index']\n",
    "\n",
    "df02.head()"
   ]
  },
  {
   "cell_type": "code",
   "execution_count": 231,
   "metadata": {},
   "outputs": [
    {
     "data": {
      "text/plain": [
       "(92, 6)"
      ]
     },
     "execution_count": 231,
     "metadata": {},
     "output_type": "execute_result"
    }
   ],
   "source": [
    "df02.shape"
   ]
  },
  {
   "cell_type": "markdown",
   "metadata": {},
   "source": [
    "# Check & Verify Columns type (for each element)"
   ]
  },
  {
   "cell_type": "code",
   "execution_count": 245,
   "metadata": {},
   "outputs": [
    {
     "data": {
      "text/plain": [
       "dtype('<M8[ns]')"
      ]
     },
     "execution_count": 245,
     "metadata": {},
     "output_type": "execute_result"
    }
   ],
   "source": [
    "# To Check/Get CELL type, uese one of the following :\n",
    "#a = type(df02.at[5,'Qty'])\n",
    "#a = type(df02.iat[5,1])\n",
    "#a = df02.at[5,'Qty'].dtype\n",
    "#a = print(type(df02.iat[3,1]))\n",
    "\n",
    "# To Check/Get COLUMN type, use one of the following :-\n",
    "#a = type(df02.dtypes)    \n",
    "#a = df02.dtypes\n",
    "#a = df02['ETA'].dtypes\n",
    "\n",
    "a"
   ]
  },
  {
   "cell_type": "code",
   "execution_count": 233,
   "metadata": {},
   "outputs": [
    {
     "name": "stdout",
     "output_type": "stream",
     "text": [
      "Err:  46 PoNumber Type is:  <class 'int'>\n",
      "Err:  47 PoNumber Type is:  <class 'int'>\n",
      "Err:  48 PoNumber Type is:  <class 'int'>\n",
      "Err:  49 PoNumber Type is:  <class 'int'>\n",
      "Err:  50 PoNumber Type is:  <class 'int'>\n",
      "Err:  51 PoNumber Type is:  <class 'int'>\n",
      "Err:  52 PoNumber Type is:  <class 'int'>\n",
      "Err:  31 PO_Date_OrderOn Type is:  <class 'str'>\n",
      "Err:  32 PO_Date_OrderOn Type is:  <class 'str'>\n",
      "Err:  33 PO_Date_OrderOn Type is:  <class 'str'>\n",
      "Err:  34 PO_Date_OrderOn Type is:  <class 'str'>\n",
      "Err:  35 PO_Date_OrderOn Type is:  <class 'str'>\n",
      "Err:  36 PO_Date_OrderOn Type is:  <class 'str'>\n",
      "Err:  37 PO_Date_OrderOn Type is:  <class 'str'>\n",
      "Err:  38 PO_Date_OrderOn Type is:  <class 'str'>\n",
      "Err:  39 PO_Date_OrderOn Type is:  <class 'str'>\n",
      "Err:  40 PO_Date_OrderOn Type is:  <class 'str'>\n",
      "Err:  41 PO_Date_OrderOn Type is:  <class 'str'>\n",
      "Err:  42 PO_Date_OrderOn Type is:  <class 'str'>\n",
      "Err:  43 PO_Date_OrderOn Type is:  <class 'str'>\n",
      "Err:  44 PO_Date_OrderOn Type is:  <class 'str'>\n",
      "Err:  45 PO_Date_OrderOn Type is:  <class 'str'>\n",
      "Err:  46 PO_Date_OrderOn Type is:  <class 'str'>\n",
      "Err:  47 PO_Date_OrderOn Type is:  <class 'str'>\n",
      "Err:  48 PO_Date_OrderOn Type is:  <class 'str'>\n",
      "Err:  49 PO_Date_OrderOn Type is:  <class 'str'>\n",
      "Err:  50 PO_Date_OrderOn Type is:  <class 'str'>\n",
      "Err:  51 PO_Date_OrderOn Type is:  <class 'str'>\n",
      "Err:  52 PO_Date_OrderOn Type is:  <class 'str'>\n"
     ]
    },
    {
     "data": {
      "text/plain": [
       "True"
      ]
     },
     "execution_count": 233,
     "metadata": {},
     "output_type": "execute_result"
    }
   ],
   "source": [
    "\n",
    "# Parameters:-\n",
    "#           pandas datafram\n",
    "#           Column Name as String\n",
    "#           Type(NOT String) : int, datetime, float, pandas._libs.tslib.Timestamp, str\n",
    "def pdCheckColumType(df, cName, cType):\n",
    "    flag = True\n",
    "    for index, row in df.iterrows():\n",
    "        t = type(row[cName])\n",
    "        if t is cType: pass\n",
    "            #print(\"OK\")\n",
    "        else:\n",
    "            flag = False\n",
    "            print(\"Err: \", index, \"{} Type is: \".format(cName), t)\n",
    "    return flag\n",
    "\n",
    "#Check ALL Cells type (Column by Column)\n",
    "pdCheckColumType(df02,'PoNumber',str) \n",
    "pdCheckColumType(df02,'PO_Date_OrderOn',datetime)\n",
    "pdCheckColumType(df02,'ArrivalDate',float)\n",
    "pdCheckColumType(df02,'ETA',pd._libs.tslib.Timestamp)\n",
    "pdCheckColumType(df02,'Qty',float)\n",
    "pdCheckColumType(df02,'SKU',str)\n",
    "    \n",
    "\n",
    "    "
   ]
  },
  {
   "cell_type": "markdown",
   "metadata": {},
   "source": [
    "# Access CELL in Datafram"
   ]
  },
  {
   "cell_type": "code",
   "execution_count": 253,
   "metadata": {
    "scrolled": true
   },
   "outputs": [
    {
     "data": {
      "text/plain": [
       "10.0"
      ]
     },
     "execution_count": 253,
     "metadata": {},
     "output_type": "execute_result"
    }
   ],
   "source": [
    "# To access a CELL, use > df01.at[5,'Qty']   OR df01.iat[5,1]\n",
    "a = df02.at[4,'Qty']\n",
    "#a = df02.iat[4,1]\n",
    "\n",
    "a"
   ]
  },
  {
   "cell_type": "code",
   "execution_count": 303,
   "metadata": {
    "collapsed": true
   },
   "outputs": [],
   "source": [
    "writer = pd.ExcelWriter('L:\\\\output.xlsx',\n",
    "                        engine='xlsxwriter',\n",
    "                        datetime_format='d mmm yyyy hh:mm:ss',\n",
    "                        date_format='dd mmmm yyyy')\n",
    "# This is the default\n",
    "df02.to_excel(writer, sheet_name='Sheet2')\n",
    "\n",
    "# Turn off the default header and skip one row to allow us to insert a user defined header.\n",
    "df01.to_excel(writer, sheet_name='Sheet1', startrow=1, header=False)  # http://xlsxwriter.readthedocs.io/working_with_pandas.html\n",
    "\n",
    "# Get the xlsxwriter workbook and worksheet objects.\n",
    "workbook  = writer.book\n",
    "worksheet = writer.sheets['Sheet1']\n",
    "\n",
    "# Add your format.\n",
    "format_01 = workbook.add_format({\n",
    "    'bold': True,\n",
    "    'text_wrap': False,\n",
    "    'valign': 'top',\n",
    "    'font_color': '#9C0006',\n",
    "    'bg_color':'#FFC7CE',   # http://xlsxwriter.readthedocs.io/format.html\n",
    "    'border': 13})\n",
    "format_02 = workbook.add_format({    # http://pbpython.com/improve-pandas-excel-output.html\n",
    "    'bg_color': '#C6EFCE',\n",
    "    'font_color': '#006100'})\n",
    "\n",
    "# Write the column headers with the defined format.\n",
    "for col_num, value in enumerate(df01.columns.values):\n",
    "    worksheet.write(0, col_num + 1, value, format_01)\n",
    "\n",
    "writer.save()\n"
   ]
  }
 ],
 "metadata": {
  "kernelspec": {
   "display_name": "Python 3",
   "language": "python",
   "name": "python3"
  },
  "language_info": {
   "codemirror_mode": {
    "name": "ipython",
    "version": 3
   },
   "file_extension": ".py",
   "mimetype": "text/x-python",
   "name": "python",
   "nbconvert_exporter": "python",
   "pygments_lexer": "ipython3",
   "version": "3.6.3"
  }
 },
 "nbformat": 4,
 "nbformat_minor": 2
}
